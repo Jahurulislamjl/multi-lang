{
 "cells": [
  {
   "cell_type": "code",
   "execution_count": 5,
   "metadata": {},
   "outputs": [],
   "source": [
    "import sqlite3\n",
    "\n",
    "connectionObject    = sqlite3.connect(\"unit_clrc_013_osc.db\")\n",
    "cursorObject        = connectionObject.cursor()"
   ]
  },
  {
   "cell_type": "code",
   "execution_count": 6,
   "metadata": {},
   "outputs": [
    {
     "data": {
      "text/plain": [
       "<sqlite3.Cursor at 0x1512a841a40>"
      ]
     },
     "execution_count": 6,
     "metadata": {},
     "output_type": "execute_result"
    }
   ],
   "source": [
    "dropTable           = \"drop table sound_table\"\n",
    "cursorObject.execute(dropTable)\n",
    "\n",
    "createTable = \"CREATE TABLE sound_table(LwA text, db63 numeric(3,1), db125 numeric(3,1), db250 numeric(3,1), db500 numeric(3,1), db1000 numeric(3,1), db2000 numeric(3,1), db4000 numeric(3,1), db8000 numeric(3,1), total numeric(3,1), lp1m numeric(3,1), lp3m numeric(3,1))\"\n",
    "cursorObject.execute(createTable)"
   ]
  },
  {
   "cell_type": "code",
   "execution_count": 7,
   "metadata": {},
   "outputs": [
    {
     "data": {
      "text/plain": [
       "<sqlite3.Cursor at 0x1512a841a40>"
      ]
     },
     "execution_count": 7,
     "metadata": {},
     "output_type": "execute_result"
    }
   ],
   "source": [
    "insertValues = 'INSERT INTO sound_table values(\"Fresh\", 42.8, 41.0, 40.4, 39.8, 31.7, 29.5, 21.0, 12.0, 42.8, 34.8, 25.2)'\n",
    "cursorObject.execute(insertValues)\n",
    "\n",
    "insertValues = 'INSERT INTO sound_table values(\"Supply\", 48.7, 52.4, 56.4, 55.8, 57.5, 53.6, 53.2, 49.5, 63.3, 55.3, 45.8)'\n",
    "cursorObject.execute(insertValues)\n",
    "\n",
    "insertValues = 'INSERT INTO sound_table values(\"Exhaust\", 49.2, 53.0, 57.0, 56.4, 58.1, 54.2, 53.8, 50.1, 63.9, 55.9, 46.4)'\n",
    "cursorObject.execute(insertValues)\n",
    "\n",
    "insertValues = 'INSERT INTO sound_table values(\"Return\", 41.9, 40.1, 39.5, 39.9, 31.0, 28.9, 20.5, 11.7, 46.5, 38.5, 29.0)'\n",
    "cursorObject.execute(insertValues)\n",
    "\n",
    "insertValues = 'INSERT INTO sound_table values(\"Breakout\", 35.0, 33.7, 31.7, 25.1, 23.8, 16.9, 15.5, 3.8, 38.8, 30.8, 21.3)'\n",
    "cursorObject.execute(insertValues)"
   ]
  },
  {
   "cell_type": "code",
   "execution_count": 8,
   "metadata": {},
   "outputs": [
    {
     "name": "stdout",
     "output_type": "stream",
     "text": [
      "('Fresh', 42.8, 41, 40.4, 39.8, 31.7, 29.5, 21, 12, 42.8, 34.8, 25.2)\n",
      "('Supply', 48.7, 52.4, 56.4, 55.8, 57.5, 53.6, 53.2, 49.5, 63.3, 55.3, 45.8)\n",
      "('Exhaust', 49.2, 53, 57, 56.4, 58.1, 54.2, 53.8, 50.1, 63.9, 55.9, 46.4)\n",
      "('Return', 41.9, 40.1, 39.5, 39.9, 31, 28.9, 20.5, 11.7, 46.5, 38.5, 29)\n",
      "('Breakout', 35, 33.7, 31.7, 25.1, 23.8, 16.9, 15.5, 3.8, 38.8, 30.8, 21.3)\n"
     ]
    }
   ],
   "source": [
    "queryTable = \"SELECT * from sound_table\"\n",
    "queryResults = cursorObject.execute(queryTable)\n",
    "\n",
    "for result in queryResults:\n",
    "    print(result)\n",
    "\n",
    "connectionObject.close()"
   ]
  },
  {
   "cell_type": "code",
   "execution_count": null,
   "metadata": {},
   "outputs": [],
   "source": []
  },
  {
   "cell_type": "code",
   "execution_count": null,
   "metadata": {},
   "outputs": [],
   "source": []
  }
 ],
 "metadata": {
  "kernelspec": {
   "display_name": "Python 3",
   "language": "python",
   "name": "python3"
  },
  "language_info": {
   "codemirror_mode": {
    "name": "ipython",
    "version": 3
   },
   "file_extension": ".py",
   "mimetype": "text/x-python",
   "name": "python",
   "nbconvert_exporter": "python",
   "pygments_lexer": "ipython3",
   "version": "3.7.4"
  },
  "varInspector": {
   "cols": {
    "lenName": 16,
    "lenType": 16,
    "lenVar": 40
   },
   "kernels_config": {
    "python": {
     "delete_cmd_postfix": "",
     "delete_cmd_prefix": "del ",
     "library": "var_list.py",
     "varRefreshCmd": "print(var_dic_list())"
    },
    "r": {
     "delete_cmd_postfix": ") ",
     "delete_cmd_prefix": "rm(",
     "library": "var_list.r",
     "varRefreshCmd": "cat(var_dic_list()) "
    }
   },
   "position": {
    "height": "415px",
    "left": "959px",
    "right": "20px",
    "top": "330px",
    "width": "350px"
   },
   "types_to_exclude": [
    "module",
    "function",
    "builtin_function_or_method",
    "instance",
    "_Feature"
   ],
   "window_display": false
  }
 },
 "nbformat": 4,
 "nbformat_minor": 2
}
