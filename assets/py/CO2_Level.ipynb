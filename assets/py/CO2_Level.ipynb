{
 "cells": [
  {
   "cell_type": "code",
   "execution_count": 4,
   "metadata": {},
   "outputs": [],
   "source": [
    "import sys"
   ]
  },
  {
   "cell_type": "code",
   "execution_count": 1,
   "metadata": {},
   "outputs": [],
   "source": [
    "def calc_volume_litri(w, l, h):\n",
    "    volume = 0\n",
    "    volume = w * l * h * 1000\n",
    "    \n",
    "    return volume"
   ]
  },
  {
   "cell_type": "code",
   "execution_count": null,
   "metadata": {},
   "outputs": [],
   "source": [
    "def calc_superf_m2(w, l):\n",
    "    superf = 0\n",
    "    superf = w * l\n",
    "    \n",
    "    return superf"
   ]
  },
  {
   "cell_type": "code",
   "execution_count": null,
   "metadata": {},
   "outputs": [],
   "source": [
    "def co2prodpersona(met):\n",
    "    co2 = 0\n",
    "    co2 = 0.00276 * 1.645 * met / (0.23 * 0.83 + 0.77) * 3600\n",
    "    \n",
    "    return co2"
   ]
  },
  {
   "cell_type": "code",
   "execution_count": 1,
   "metadata": {},
   "outputs": [],
   "source": [
    "def airflowdemand(extco2, maxco2, persone, co2pers):\n",
    "    airflow = 0\n",
    "    qv = 0\n",
    "    \n",
    "    qv = persone * co2pers / 3600\n",
    "    airflow = 1000000 * qv / (maxco2 - extco2)\n",
    "    \n",
    "    return airflow"
   ]
  },
  {
   "cell_type": "code",
   "execution_count": 9,
   "metadata": {},
   "outputs": [],
   "source": [
    "volume = 0\n",
    "extco2 = 0\n",
    "maxco2 = 0\n",
    "af_demand = 0\n",
    "personebreak = 0\n",
    "personepresenti = 0\n",
    "tempobreak = 0\n",
    "tempopresenza = 0\n",
    "chart1 = 0"
   ]
  },
  {
   "cell_type": "code",
   "execution_count": null,
   "metadata": {},
   "outputs": [],
   "source": [
    "ppmpersona = 0\n"
   ]
  }
 ],
 "metadata": {
  "kernelspec": {
   "display_name": "Python 3",
   "language": "python",
   "name": "python3"
  },
  "language_info": {
   "codemirror_mode": {
    "name": "ipython",
    "version": 3
   },
   "file_extension": ".py",
   "mimetype": "text/x-python",
   "name": "python",
   "nbconvert_exporter": "python",
   "pygments_lexer": "ipython3",
   "version": "3.7.4"
  },
  "varInspector": {
   "cols": {
    "lenName": 16,
    "lenType": 16,
    "lenVar": 40
   },
   "kernels_config": {
    "python": {
     "delete_cmd_postfix": "",
     "delete_cmd_prefix": "del ",
     "library": "var_list.py",
     "varRefreshCmd": "print(var_dic_list())"
    },
    "r": {
     "delete_cmd_postfix": ") ",
     "delete_cmd_prefix": "rm(",
     "library": "var_list.r",
     "varRefreshCmd": "cat(var_dic_list()) "
    }
   },
   "types_to_exclude": [
    "module",
    "function",
    "builtin_function_or_method",
    "instance",
    "_Feature"
   ],
   "window_display": true
  }
 },
 "nbformat": 4,
 "nbformat_minor": 2
}
